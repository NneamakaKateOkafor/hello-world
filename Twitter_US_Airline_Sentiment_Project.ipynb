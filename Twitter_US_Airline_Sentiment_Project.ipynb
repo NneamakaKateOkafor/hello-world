{
  "nbformat": 4,
  "nbformat_minor": 0,
  "metadata": {
    "colab": {
      "name": "Twitter US Airline Sentiment Project.ipynb",
      "provenance": [],
      "collapsed_sections": [],
      "authorship_tag": "ABX9TyOfXoFzvWgoGC6w3TdA6DEt",
      "include_colab_link": true
    },
    "kernelspec": {
      "display_name": "Python 3",
      "name": "python3"
    }
  },
  "cells": [
    {
      "cell_type": "markdown",
      "metadata": {
        "id": "view-in-github",
        "colab_type": "text"
      },
      "source": [
        "<a href=\"https://colab.research.google.com/github/NneamakaKateOkafor/hello-world/blob/master/Twitter_US_Airline_Sentiment_Project.ipynb\" target=\"_parent\"><img src=\"https://colab.research.google.com/assets/colab-badge.svg\" alt=\"Open In Colab\"/></a>"
      ]
    },
    {
      "cell_type": "markdown",
      "metadata": {
        "id": "bISyGCvRd-F1"
      },
      "source": [
        "Twitter US Airline Sentiment Project"
      ]
    },
    {
      "cell_type": "markdown",
      "metadata": {
        "id": "FGl-mcSgeMo7"
      },
      "source": [
        "**Data Description:**\r\n",
        "\r\n",
        "A sentiment analysis job about the problems of each major U.S. airline. Twitter data was scraped from\r\n",
        "February of 2015 and contributors were asked to first classify positive, negative, and neutral tweets, followed\r\n",
        "by categorizing negative reasons (such as \"late flight\" or \"rude service\").\r\n",
        "bold text"
      ]
    },
    {
      "cell_type": "markdown",
      "metadata": {
        "id": "9gguyGG6ehbd"
      },
      "source": [
        "**1. Import the libraries, load dataset, print shape of data, data description. (5 Marks)**\r\n"
      ]
    },
    {
      "cell_type": "code",
      "metadata": {
        "colab": {
          "base_uri": "https://localhost:8080/"
        },
        "id": "OdF2_8VOejVt",
        "outputId": "74044c54-96e6-4f49-e9a2-5d2377720e02"
      },
      "source": [
        "import tensorflow as tf\r\n",
        "print(tf.__version__)"
      ],
      "execution_count": 203,
      "outputs": [
        {
          "output_type": "stream",
          "text": [
            "2.3.0\n"
          ],
          "name": "stdout"
        }
      ]
    },
    {
      "cell_type": "code",
      "metadata": {
        "colab": {
          "base_uri": "https://localhost:8080/"
        },
        "id": "oJ80GBoakV1a",
        "outputId": "80b705ad-192a-4ddc-b270-395a6f9f4574"
      },
      "source": [
        "!pip install contractions"
      ],
      "execution_count": 204,
      "outputs": [
        {
          "output_type": "stream",
          "text": [
            "Requirement already satisfied: contractions in /usr/local/lib/python3.6/dist-packages (0.0.43)\n",
            "Requirement already satisfied: textsearch in /usr/local/lib/python3.6/dist-packages (from contractions) (0.0.17)\n",
            "Requirement already satisfied: Unidecode in /usr/local/lib/python3.6/dist-packages (from textsearch->contractions) (1.1.1)\n",
            "Requirement already satisfied: pyahocorasick in /usr/local/lib/python3.6/dist-packages (from textsearch->contractions) (1.4.0)\n"
          ],
          "name": "stdout"
        }
      ]
    },
    {
      "cell_type": "code",
      "metadata": {
        "colab": {
          "base_uri": "https://localhost:8080/",
          "height": 119
        },
        "id": "VHXM5n4rivP8",
        "outputId": "7d2024ae-b6c6-47dc-fcde-42b589dc52e2"
      },
      "source": [
        "import nltk\r\n",
        "import numpy as np\r\n",
        "import pandas as pd\r\n",
        "import seaborn as sns\r\n",
        "import matplotlib.pyplot as plt\r\n",
        "%matplotlib inline\r\n",
        "import re, string, unicodedata\r\n",
        "nltk.download('stopwords')\r\n",
        "nltk.download('punkt')\r\n",
        "nltk.download('wordnet')\r\n",
        "import contractions\r\n",
        "import warnings\r\n",
        "warnings.filterwarnings('ignore')\r\n",
        "from IPython.core.display import display, HTML\r\n",
        "display(HTML(\"<style>.container {width: 100% !important;} </style>\"))\r\n",
        "from bs4 import BeautifulSoup\r\n",
        "from nltk.corpus import stopwords\r\n",
        "from nltk.tokenize import word_tokenize, sent_tokenize\r\n",
        "from nltk.stem import WordNetLemmatizer, LancasterStemmer\r\n",
        "from sklearn.model_selection import train_test_split,cross_val_score\r\n",
        "from sklearn.tree import DecisionTreeClassifier\r\n",
        "from sklearn.svm import SVC\r\n",
        "from sklearn.naive_bayes import GaussianNB\r\n",
        "from sklearn.neighbors import KNeighborsClassifier\r\n",
        "from sklearn.linear_model import LogisticRegression\r\n",
        "from sklearn.feature_extraction.text import CountVectorizer, TfidfVectorizer\r\n",
        "from sklearn.ensemble import RandomForestClassifier, AdaBoostClassifier, GradientBoostingClassifier\r\n",
        "from sklearn.metrics import accuracy_score,confusion_matrix,classification_report,plot_confusion_matrix"
      ],
      "execution_count": 262,
      "outputs": [
        {
          "output_type": "stream",
          "text": [
            "[nltk_data] Downloading package stopwords to /root/nltk_data...\n",
            "[nltk_data]   Package stopwords is already up-to-date!\n",
            "[nltk_data] Downloading package punkt to /root/nltk_data...\n",
            "[nltk_data]   Package punkt is already up-to-date!\n",
            "[nltk_data] Downloading package wordnet to /root/nltk_data...\n",
            "[nltk_data]   Package wordnet is already up-to-date!\n"
          ],
          "name": "stdout"
        },
        {
          "output_type": "display_data",
          "data": {
            "text/html": [
              "<style>.container {width: 100% !important;} </style>"
            ],
            "text/plain": [
              "<IPython.core.display.HTML object>"
            ]
          },
          "metadata": {
            "tags": []
          }
        }
      ]
    },
    {
      "cell_type": "code",
      "metadata": {
        "id": "7VwEsicMete8"
      },
      "source": [
        "from google.colab import drive"
      ],
      "execution_count": 206,
      "outputs": []
    },
    {
      "cell_type": "code",
      "metadata": {
        "colab": {
          "base_uri": "https://localhost:8080/"
        },
        "id": "V8nCjyWwgwVV",
        "outputId": "d74eebf3-6144-49ca-c97f-7f97d9fc72c0"
      },
      "source": [
        "drive.mount('/content/drive/')"
      ],
      "execution_count": 207,
      "outputs": [
        {
          "output_type": "stream",
          "text": [
            "Drive already mounted at /content/drive/; to attempt to forcibly remount, call drive.mount(\"/content/drive/\", force_remount=True).\n"
          ],
          "name": "stdout"
        }
      ]
    },
    {
      "cell_type": "code",
      "metadata": {
        "id": "9XZPSIJQg1JU"
      },
      "source": [
        "# Define the pathway to the folder where the csv file is stored\r\n",
        "project_path = '/content/drive/My Drive/Colab Notebooks/'\r\n",
        "\r\n",
        "dataset_file = project_path + 'Tweets.csv'"
      ],
      "execution_count": 208,
      "outputs": []
    },
    {
      "cell_type": "code",
      "metadata": {
        "id": "cJUj-w8mlYbB"
      },
      "source": [
        "# Read the csv file\r\n",
        "mydata = pd.read_csv(dataset_file)"
      ],
      "execution_count": 209,
      "outputs": []
    },
    {
      "cell_type": "code",
      "metadata": {
        "colab": {
          "base_uri": "https://localhost:8080/"
        },
        "id": "LI2hQtSymqlK",
        "outputId": "bcb02e6d-71c8-48d5-8fd5-45d5c5bb749f"
      },
      "source": [
        "# Basic Information of the dataset including data types\r\n",
        "mydata.info()"
      ],
      "execution_count": 210,
      "outputs": [
        {
          "output_type": "stream",
          "text": [
            "<class 'pandas.core.frame.DataFrame'>\n",
            "RangeIndex: 14640 entries, 0 to 14639\n",
            "Data columns (total 15 columns):\n",
            " #   Column                        Non-Null Count  Dtype  \n",
            "---  ------                        --------------  -----  \n",
            " 0   tweet_id                      14640 non-null  int64  \n",
            " 1   airline_sentiment             14640 non-null  object \n",
            " 2   airline_sentiment_confidence  14640 non-null  float64\n",
            " 3   negativereason                9178 non-null   object \n",
            " 4   negativereason_confidence     10522 non-null  float64\n",
            " 5   airline                       14640 non-null  object \n",
            " 6   airline_sentiment_gold        40 non-null     object \n",
            " 7   name                          14640 non-null  object \n",
            " 8   negativereason_gold           32 non-null     object \n",
            " 9   retweet_count                 14640 non-null  int64  \n",
            " 10  text                          14640 non-null  object \n",
            " 11  tweet_coord                   1019 non-null   object \n",
            " 12  tweet_created                 14640 non-null  object \n",
            " 13  tweet_location                9907 non-null   object \n",
            " 14  user_timezone                 9820 non-null   object \n",
            "dtypes: float64(2), int64(2), object(11)\n",
            "memory usage: 1.7+ MB\n"
          ],
          "name": "stdout"
        }
      ]
    },
    {
      "cell_type": "code",
      "metadata": {
        "colab": {
          "base_uri": "https://localhost:8080/"
        },
        "id": "UcZSQzL2mr2R",
        "outputId": "5173cac2-16c6-415e-c7f6-b17f24cced7f"
      },
      "source": [
        "# Check only the data types not the whole information\r\n",
        "mydata.dtypes"
      ],
      "execution_count": 211,
      "outputs": [
        {
          "output_type": "execute_result",
          "data": {
            "text/plain": [
              "tweet_id                          int64\n",
              "airline_sentiment                object\n",
              "airline_sentiment_confidence    float64\n",
              "negativereason                   object\n",
              "negativereason_confidence       float64\n",
              "airline                          object\n",
              "airline_sentiment_gold           object\n",
              "name                             object\n",
              "negativereason_gold              object\n",
              "retweet_count                     int64\n",
              "text                             object\n",
              "tweet_coord                      object\n",
              "tweet_created                    object\n",
              "tweet_location                   object\n",
              "user_timezone                    object\n",
              "dtype: object"
            ]
          },
          "metadata": {
            "tags": []
          },
          "execution_count": 211
        }
      ]
    },
    {
      "cell_type": "code",
      "metadata": {
        "colab": {
          "base_uri": "https://localhost:8080/",
          "height": 632
        },
        "id": "5pbVLCSImsiD",
        "outputId": "4eff3948-6319-4e74-8bbd-1ec0e2868884"
      },
      "source": [
        "# Analysis of the body of distributions / head\r\n",
        "mydata.head()"
      ],
      "execution_count": 212,
      "outputs": [
        {
          "output_type": "execute_result",
          "data": {
            "text/html": [
              "<div>\n",
              "<style scoped>\n",
              "    .dataframe tbody tr th:only-of-type {\n",
              "        vertical-align: middle;\n",
              "    }\n",
              "\n",
              "    .dataframe tbody tr th {\n",
              "        vertical-align: top;\n",
              "    }\n",
              "\n",
              "    .dataframe thead th {\n",
              "        text-align: right;\n",
              "    }\n",
              "</style>\n",
              "<table border=\"1\" class=\"dataframe\">\n",
              "  <thead>\n",
              "    <tr style=\"text-align: right;\">\n",
              "      <th></th>\n",
              "      <th>tweet_id</th>\n",
              "      <th>airline_sentiment</th>\n",
              "      <th>airline_sentiment_confidence</th>\n",
              "      <th>negativereason</th>\n",
              "      <th>negativereason_confidence</th>\n",
              "      <th>airline</th>\n",
              "      <th>airline_sentiment_gold</th>\n",
              "      <th>name</th>\n",
              "      <th>negativereason_gold</th>\n",
              "      <th>retweet_count</th>\n",
              "      <th>text</th>\n",
              "      <th>tweet_coord</th>\n",
              "      <th>tweet_created</th>\n",
              "      <th>tweet_location</th>\n",
              "      <th>user_timezone</th>\n",
              "    </tr>\n",
              "  </thead>\n",
              "  <tbody>\n",
              "    <tr>\n",
              "      <th>0</th>\n",
              "      <td>570306133677760513</td>\n",
              "      <td>neutral</td>\n",
              "      <td>1.0000</td>\n",
              "      <td>NaN</td>\n",
              "      <td>NaN</td>\n",
              "      <td>Virgin America</td>\n",
              "      <td>NaN</td>\n",
              "      <td>cairdin</td>\n",
              "      <td>NaN</td>\n",
              "      <td>0</td>\n",
              "      <td>@VirginAmerica What @dhepburn said.</td>\n",
              "      <td>NaN</td>\n",
              "      <td>2015-02-24 11:35:52 -0800</td>\n",
              "      <td>NaN</td>\n",
              "      <td>Eastern Time (US &amp; Canada)</td>\n",
              "    </tr>\n",
              "    <tr>\n",
              "      <th>1</th>\n",
              "      <td>570301130888122368</td>\n",
              "      <td>positive</td>\n",
              "      <td>0.3486</td>\n",
              "      <td>NaN</td>\n",
              "      <td>0.0000</td>\n",
              "      <td>Virgin America</td>\n",
              "      <td>NaN</td>\n",
              "      <td>jnardino</td>\n",
              "      <td>NaN</td>\n",
              "      <td>0</td>\n",
              "      <td>@VirginAmerica plus you've added commercials to the experience... tacky.</td>\n",
              "      <td>NaN</td>\n",
              "      <td>2015-02-24 11:15:59 -0800</td>\n",
              "      <td>NaN</td>\n",
              "      <td>Pacific Time (US &amp; Canada)</td>\n",
              "    </tr>\n",
              "    <tr>\n",
              "      <th>2</th>\n",
              "      <td>570301083672813571</td>\n",
              "      <td>neutral</td>\n",
              "      <td>0.6837</td>\n",
              "      <td>NaN</td>\n",
              "      <td>NaN</td>\n",
              "      <td>Virgin America</td>\n",
              "      <td>NaN</td>\n",
              "      <td>yvonnalynn</td>\n",
              "      <td>NaN</td>\n",
              "      <td>0</td>\n",
              "      <td>@VirginAmerica I didn't today... Must mean I need to take another trip!</td>\n",
              "      <td>NaN</td>\n",
              "      <td>2015-02-24 11:15:48 -0800</td>\n",
              "      <td>Lets Play</td>\n",
              "      <td>Central Time (US &amp; Canada)</td>\n",
              "    </tr>\n",
              "    <tr>\n",
              "      <th>3</th>\n",
              "      <td>570301031407624196</td>\n",
              "      <td>negative</td>\n",
              "      <td>1.0000</td>\n",
              "      <td>Bad Flight</td>\n",
              "      <td>0.7033</td>\n",
              "      <td>Virgin America</td>\n",
              "      <td>NaN</td>\n",
              "      <td>jnardino</td>\n",
              "      <td>NaN</td>\n",
              "      <td>0</td>\n",
              "      <td>@VirginAmerica it's really aggressive to blast obnoxious \"entertainment\" in your guests' faces &amp;amp; they have little recourse</td>\n",
              "      <td>NaN</td>\n",
              "      <td>2015-02-24 11:15:36 -0800</td>\n",
              "      <td>NaN</td>\n",
              "      <td>Pacific Time (US &amp; Canada)</td>\n",
              "    </tr>\n",
              "    <tr>\n",
              "      <th>4</th>\n",
              "      <td>570300817074462722</td>\n",
              "      <td>negative</td>\n",
              "      <td>1.0000</td>\n",
              "      <td>Can't Tell</td>\n",
              "      <td>1.0000</td>\n",
              "      <td>Virgin America</td>\n",
              "      <td>NaN</td>\n",
              "      <td>jnardino</td>\n",
              "      <td>NaN</td>\n",
              "      <td>0</td>\n",
              "      <td>@VirginAmerica and it's a really big bad thing about it</td>\n",
              "      <td>NaN</td>\n",
              "      <td>2015-02-24 11:14:45 -0800</td>\n",
              "      <td>NaN</td>\n",
              "      <td>Pacific Time (US &amp; Canada)</td>\n",
              "    </tr>\n",
              "  </tbody>\n",
              "</table>\n",
              "</div>"
            ],
            "text/plain": [
              "             tweet_id  ...               user_timezone\n",
              "0  570306133677760513  ...  Eastern Time (US & Canada)\n",
              "1  570301130888122368  ...  Pacific Time (US & Canada)\n",
              "2  570301083672813571  ...  Central Time (US & Canada)\n",
              "3  570301031407624196  ...  Pacific Time (US & Canada)\n",
              "4  570300817074462722  ...  Pacific Time (US & Canada)\n",
              "\n",
              "[5 rows x 15 columns]"
            ]
          },
          "metadata": {
            "tags": []
          },
          "execution_count": 212
        }
      ]
    },
    {
      "cell_type": "code",
      "metadata": {
        "colab": {
          "base_uri": "https://localhost:8080/"
        },
        "id": "_-s9LhBmg0aD",
        "outputId": "b69a1b2e-5de3-46f8-8f3f-5db7fab2c313"
      },
      "source": [
        "# Display the shape of the data\r\n",
        "mydata.shape"
      ],
      "execution_count": 213,
      "outputs": [
        {
          "output_type": "execute_result",
          "data": {
            "text/plain": [
              "(14640, 15)"
            ]
          },
          "metadata": {
            "tags": []
          },
          "execution_count": 213
        }
      ]
    },
    {
      "cell_type": "code",
      "metadata": {
        "colab": {
          "base_uri": "https://localhost:8080/",
          "height": 173
        },
        "id": "Fpcwzu9Kg0B3",
        "outputId": "1eade928-1058-410d-b3ff-e4bc7fcbaf32"
      },
      "source": [
        "# Describe the attributes of this dataset (name, range of values observed, mean and median, standard deviation and quartiles)\r\n",
        "mydata.describe().transpose()"
      ],
      "execution_count": 214,
      "outputs": [
        {
          "output_type": "execute_result",
          "data": {
            "text/html": [
              "<div>\n",
              "<style scoped>\n",
              "    .dataframe tbody tr th:only-of-type {\n",
              "        vertical-align: middle;\n",
              "    }\n",
              "\n",
              "    .dataframe tbody tr th {\n",
              "        vertical-align: top;\n",
              "    }\n",
              "\n",
              "    .dataframe thead th {\n",
              "        text-align: right;\n",
              "    }\n",
              "</style>\n",
              "<table border=\"1\" class=\"dataframe\">\n",
              "  <thead>\n",
              "    <tr style=\"text-align: right;\">\n",
              "      <th></th>\n",
              "      <th>count</th>\n",
              "      <th>mean</th>\n",
              "      <th>std</th>\n",
              "      <th>min</th>\n",
              "      <th>25%</th>\n",
              "      <th>50%</th>\n",
              "      <th>75%</th>\n",
              "      <th>max</th>\n",
              "    </tr>\n",
              "  </thead>\n",
              "  <tbody>\n",
              "    <tr>\n",
              "      <th>tweet_id</th>\n",
              "      <td>14640.0</td>\n",
              "      <td>5.692184e+17</td>\n",
              "      <td>7.791112e+14</td>\n",
              "      <td>5.675883e+17</td>\n",
              "      <td>5.685592e+17</td>\n",
              "      <td>5.694779e+17</td>\n",
              "      <td>5.698905e+17</td>\n",
              "      <td>5.703106e+17</td>\n",
              "    </tr>\n",
              "    <tr>\n",
              "      <th>airline_sentiment_confidence</th>\n",
              "      <td>14640.0</td>\n",
              "      <td>9.001689e-01</td>\n",
              "      <td>1.628300e-01</td>\n",
              "      <td>3.350000e-01</td>\n",
              "      <td>6.923000e-01</td>\n",
              "      <td>1.000000e+00</td>\n",
              "      <td>1.000000e+00</td>\n",
              "      <td>1.000000e+00</td>\n",
              "    </tr>\n",
              "    <tr>\n",
              "      <th>negativereason_confidence</th>\n",
              "      <td>10522.0</td>\n",
              "      <td>6.382983e-01</td>\n",
              "      <td>3.304398e-01</td>\n",
              "      <td>0.000000e+00</td>\n",
              "      <td>3.606000e-01</td>\n",
              "      <td>6.706000e-01</td>\n",
              "      <td>1.000000e+00</td>\n",
              "      <td>1.000000e+00</td>\n",
              "    </tr>\n",
              "    <tr>\n",
              "      <th>retweet_count</th>\n",
              "      <td>14640.0</td>\n",
              "      <td>8.265027e-02</td>\n",
              "      <td>7.457782e-01</td>\n",
              "      <td>0.000000e+00</td>\n",
              "      <td>0.000000e+00</td>\n",
              "      <td>0.000000e+00</td>\n",
              "      <td>0.000000e+00</td>\n",
              "      <td>4.400000e+01</td>\n",
              "    </tr>\n",
              "  </tbody>\n",
              "</table>\n",
              "</div>"
            ],
            "text/plain": [
              "                                count          mean  ...           75%           max\n",
              "tweet_id                      14640.0  5.692184e+17  ...  5.698905e+17  5.703106e+17\n",
              "airline_sentiment_confidence  14640.0  9.001689e-01  ...  1.000000e+00  1.000000e+00\n",
              "negativereason_confidence     10522.0  6.382983e-01  ...  1.000000e+00  1.000000e+00\n",
              "retweet_count                 14640.0  8.265027e-02  ...  0.000000e+00  4.400000e+01\n",
              "\n",
              "[4 rows x 8 columns]"
            ]
          },
          "metadata": {
            "tags": []
          },
          "execution_count": 214
        }
      ]
    },
    {
      "cell_type": "code",
      "metadata": {
        "colab": {
          "base_uri": "https://localhost:8080/"
        },
        "id": "pLogVKLwgzOL",
        "outputId": "8437d21a-7ed3-408d-a152-7ac7bf51875d"
      },
      "source": [
        "# Number of unique values in each column\r\n",
        "mydata.nunique()"
      ],
      "execution_count": 215,
      "outputs": [
        {
          "output_type": "execute_result",
          "data": {
            "text/plain": [
              "tweet_id                        14485\n",
              "airline_sentiment                   3\n",
              "airline_sentiment_confidence     1023\n",
              "negativereason                     10\n",
              "negativereason_confidence        1410\n",
              "airline                             6\n",
              "airline_sentiment_gold              3\n",
              "name                             7701\n",
              "negativereason_gold                13\n",
              "retweet_count                      18\n",
              "text                            14427\n",
              "tweet_coord                       832\n",
              "tweet_created                   14247\n",
              "tweet_location                   3081\n",
              "user_timezone                      85\n",
              "dtype: int64"
            ]
          },
          "metadata": {
            "tags": []
          },
          "execution_count": 215
        }
      ]
    },
    {
      "cell_type": "code",
      "metadata": {
        "colab": {
          "base_uri": "https://localhost:8080/"
        },
        "id": "3ZrgRFxamX7p",
        "outputId": "3539bb2b-c899-46bd-d286-5a3c07e64b6a"
      },
      "source": [
        "# Check for duplicate rows\r\n",
        "mydata.duplicated().sum()"
      ],
      "execution_count": 216,
      "outputs": [
        {
          "output_type": "execute_result",
          "data": {
            "text/plain": [
              "36"
            ]
          },
          "metadata": {
            "tags": []
          },
          "execution_count": 216
        }
      ]
    },
    {
      "cell_type": "code",
      "metadata": {
        "id": "lEUCKr2L-RDj"
      },
      "source": [
        "# To remove duplicates, we can use the following code, but i will not remove them since all sentiments in this project are required.\r\n",
        "# mydata = mydata.drop_duplicates()"
      ],
      "execution_count": 217,
      "outputs": []
    },
    {
      "cell_type": "code",
      "metadata": {
        "colab": {
          "base_uri": "https://localhost:8080/"
        },
        "id": "-oPDdH3AmW8K",
        "outputId": "d7099a3a-769f-4cc6-e4b2-34271bffe490"
      },
      "source": [
        "# Skewness of the dataset\r\n",
        "mydata.skew()"
      ],
      "execution_count": 218,
      "outputs": [
        {
          "output_type": "execute_result",
          "data": {
            "text/plain": [
              "tweet_id                        -0.475122\n",
              "airline_sentiment_confidence    -1.239343\n",
              "negativereason_confidence       -0.601117\n",
              "retweet_count                   33.912872\n",
              "dtype: float64"
            ]
          },
          "metadata": {
            "tags": []
          },
          "execution_count": 218
        }
      ]
    },
    {
      "cell_type": "code",
      "metadata": {
        "colab": {
          "base_uri": "https://localhost:8080/"
        },
        "id": "x06EE8QZmVjY",
        "outputId": "caf5e3a7-215f-47ec-ae00-44f0542e3f68"
      },
      "source": [
        "# Null values\r\n",
        "mydata.isnull().sum(axis=0)"
      ],
      "execution_count": 219,
      "outputs": [
        {
          "output_type": "execute_result",
          "data": {
            "text/plain": [
              "tweet_id                            0\n",
              "airline_sentiment                   0\n",
              "airline_sentiment_confidence        0\n",
              "negativereason                   5462\n",
              "negativereason_confidence        4118\n",
              "airline                             0\n",
              "airline_sentiment_gold          14600\n",
              "name                                0\n",
              "negativereason_gold             14608\n",
              "retweet_count                       0\n",
              "text                                0\n",
              "tweet_coord                     13621\n",
              "tweet_created                       0\n",
              "tweet_location                   4733\n",
              "user_timezone                    4820\n",
              "dtype: int64"
            ]
          },
          "metadata": {
            "tags": []
          },
          "execution_count": 219
        }
      ]
    },
    {
      "cell_type": "markdown",
      "metadata": {
        "id": "kyhinN_7ez5P"
      },
      "source": [
        "**2. Understand of data-columns: (5 Marks)**\r\n",
        "\r\n",
        "a. Drop all other columns except “text” and “airline_sentiment”\r\n"
      ]
    },
    {
      "cell_type": "code",
      "metadata": {
        "colab": {
          "base_uri": "https://localhost:8080/",
          "height": 419
        },
        "id": "jnVbcHXCe1sF",
        "outputId": "5e36b988-7baf-4f46-9971-f9ec914aff41"
      },
      "source": [
        "# Create a copy of mydata\r\n",
        "mydata2 = mydata.copy()\r\n",
        "mydata2.drop(['tweet_id','airline_sentiment_confidence','negativereason','negativereason_confidence',\r\n",
        "              'airline','airline_sentiment_gold','name',\r\n",
        "              'negativereason_gold','retweet_count','tweet_coord','tweet_created',\r\n",
        "              'tweet_location','user_timezone'], axis=1, inplace=True)\r\n",
        "\r\n",
        "mydata2"
      ],
      "execution_count": 220,
      "outputs": [
        {
          "output_type": "execute_result",
          "data": {
            "text/html": [
              "<div>\n",
              "<style scoped>\n",
              "    .dataframe tbody tr th:only-of-type {\n",
              "        vertical-align: middle;\n",
              "    }\n",
              "\n",
              "    .dataframe tbody tr th {\n",
              "        vertical-align: top;\n",
              "    }\n",
              "\n",
              "    .dataframe thead th {\n",
              "        text-align: right;\n",
              "    }\n",
              "</style>\n",
              "<table border=\"1\" class=\"dataframe\">\n",
              "  <thead>\n",
              "    <tr style=\"text-align: right;\">\n",
              "      <th></th>\n",
              "      <th>airline_sentiment</th>\n",
              "      <th>text</th>\n",
              "    </tr>\n",
              "  </thead>\n",
              "  <tbody>\n",
              "    <tr>\n",
              "      <th>0</th>\n",
              "      <td>neutral</td>\n",
              "      <td>@VirginAmerica What @dhepburn said.</td>\n",
              "    </tr>\n",
              "    <tr>\n",
              "      <th>1</th>\n",
              "      <td>positive</td>\n",
              "      <td>@VirginAmerica plus you've added commercials to the experience... tacky.</td>\n",
              "    </tr>\n",
              "    <tr>\n",
              "      <th>2</th>\n",
              "      <td>neutral</td>\n",
              "      <td>@VirginAmerica I didn't today... Must mean I need to take another trip!</td>\n",
              "    </tr>\n",
              "    <tr>\n",
              "      <th>3</th>\n",
              "      <td>negative</td>\n",
              "      <td>@VirginAmerica it's really aggressive to blast obnoxious \"entertainment\" in your guests' faces &amp;amp; they have little recourse</td>\n",
              "    </tr>\n",
              "    <tr>\n",
              "      <th>4</th>\n",
              "      <td>negative</td>\n",
              "      <td>@VirginAmerica and it's a really big bad thing about it</td>\n",
              "    </tr>\n",
              "    <tr>\n",
              "      <th>...</th>\n",
              "      <td>...</td>\n",
              "      <td>...</td>\n",
              "    </tr>\n",
              "    <tr>\n",
              "      <th>14635</th>\n",
              "      <td>positive</td>\n",
              "      <td>@AmericanAir thank you we got on a different flight to Chicago.</td>\n",
              "    </tr>\n",
              "    <tr>\n",
              "      <th>14636</th>\n",
              "      <td>negative</td>\n",
              "      <td>@AmericanAir leaving over 20 minutes Late Flight. No warnings or communication until we were 15 minutes Late Flight. That's called shitty customer svc</td>\n",
              "    </tr>\n",
              "    <tr>\n",
              "      <th>14637</th>\n",
              "      <td>neutral</td>\n",
              "      <td>@AmericanAir Please bring American Airlines to #BlackBerry10</td>\n",
              "    </tr>\n",
              "    <tr>\n",
              "      <th>14638</th>\n",
              "      <td>negative</td>\n",
              "      <td>@AmericanAir you have my money, you change my flight, and don't answer your phones! Any other suggestions so I can make my commitment??</td>\n",
              "    </tr>\n",
              "    <tr>\n",
              "      <th>14639</th>\n",
              "      <td>neutral</td>\n",
              "      <td>@AmericanAir we have 8 ppl so we need 2 know how many seats are on the next flight. Plz put us on standby for 4 people on the next flight?</td>\n",
              "    </tr>\n",
              "  </tbody>\n",
              "</table>\n",
              "<p>14640 rows × 2 columns</p>\n",
              "</div>"
            ],
            "text/plain": [
              "      airline_sentiment                                                                                                                                                    text\n",
              "0               neutral                                                                                                                     @VirginAmerica What @dhepburn said.\n",
              "1              positive                                                                                @VirginAmerica plus you've added commercials to the experience... tacky.\n",
              "2               neutral                                                                                 @VirginAmerica I didn't today... Must mean I need to take another trip!\n",
              "3              negative                          @VirginAmerica it's really aggressive to blast obnoxious \"entertainment\" in your guests' faces &amp; they have little recourse\n",
              "4              negative                                                                                                 @VirginAmerica and it's a really big bad thing about it\n",
              "...                 ...                                                                                                                                                     ...\n",
              "14635          positive                                                                                         @AmericanAir thank you we got on a different flight to Chicago.\n",
              "14636          negative  @AmericanAir leaving over 20 minutes Late Flight. No warnings or communication until we were 15 minutes Late Flight. That's called shitty customer svc\n",
              "14637           neutral                                                                                            @AmericanAir Please bring American Airlines to #BlackBerry10\n",
              "14638          negative                 @AmericanAir you have my money, you change my flight, and don't answer your phones! Any other suggestions so I can make my commitment??\n",
              "14639           neutral              @AmericanAir we have 8 ppl so we need 2 know how many seats are on the next flight. Plz put us on standby for 4 people on the next flight?\n",
              "\n",
              "[14640 rows x 2 columns]"
            ]
          },
          "metadata": {
            "tags": []
          },
          "execution_count": 220
        }
      ]
    },
    {
      "cell_type": "markdown",
      "metadata": {
        "id": "bn46MSk4qMy5"
      },
      "source": [
        "b. Check the shape of data"
      ]
    },
    {
      "cell_type": "code",
      "metadata": {
        "colab": {
          "base_uri": "https://localhost:8080/"
        },
        "id": "pP3fN_5Kpl8X",
        "outputId": "10dc48d0-f3c3-4cde-cf7c-ecdb1ca4adaf"
      },
      "source": [
        "# Display the shape of the data after dropping the columns\r\n",
        "mydata2.shape"
      ],
      "execution_count": 221,
      "outputs": [
        {
          "output_type": "execute_result",
          "data": {
            "text/plain": [
              "(14640, 2)"
            ]
          },
          "metadata": {
            "tags": []
          },
          "execution_count": 221
        }
      ]
    },
    {
      "cell_type": "markdown",
      "metadata": {
        "id": "84ntWfZR_mlM"
      },
      "source": [
        "**Note: The columns reduced from 15 to 2**"
      ]
    },
    {
      "cell_type": "markdown",
      "metadata": {
        "id": "TiknP2RxqYDP"
      },
      "source": [
        "\r\n",
        "c. Print first 5 rows of data"
      ]
    },
    {
      "cell_type": "code",
      "metadata": {
        "colab": {
          "base_uri": "https://localhost:8080/"
        },
        "id": "IOnWAT8ie9h0",
        "outputId": "b9d8fd47-0d69-47f1-9c50-f7aee8426119"
      },
      "source": [
        "# Display full dataframe information (Non-truncated Text column)\r\n",
        "pd.set_option('display.max_colwidth', None)\r\n",
        "mydata2.head"
      ],
      "execution_count": 222,
      "outputs": [
        {
          "output_type": "execute_result",
          "data": {
            "text/plain": [
              "<bound method NDFrame.head of       airline_sentiment                                                                                                                                                    text\n",
              "0               neutral                                                                                                                     @VirginAmerica What @dhepburn said.\n",
              "1              positive                                                                                @VirginAmerica plus you've added commercials to the experience... tacky.\n",
              "2               neutral                                                                                 @VirginAmerica I didn't today... Must mean I need to take another trip!\n",
              "3              negative                          @VirginAmerica it's really aggressive to blast obnoxious \"entertainment\" in your guests' faces &amp; they have little recourse\n",
              "4              negative                                                                                                 @VirginAmerica and it's a really big bad thing about it\n",
              "...                 ...                                                                                                                                                     ...\n",
              "14635          positive                                                                                         @AmericanAir thank you we got on a different flight to Chicago.\n",
              "14636          negative  @AmericanAir leaving over 20 minutes Late Flight. No warnings or communication until we were 15 minutes Late Flight. That's called shitty customer svc\n",
              "14637           neutral                                                                                            @AmericanAir Please bring American Airlines to #BlackBerry10\n",
              "14638          negative                 @AmericanAir you have my money, you change my flight, and don't answer your phones! Any other suggestions so I can make my commitment??\n",
              "14639           neutral              @AmericanAir we have 8 ppl so we need 2 know how many seats are on the next flight. Plz put us on standby for 4 people on the next flight?\n",
              "\n",
              "[14640 rows x 2 columns]>"
            ]
          },
          "metadata": {
            "tags": []
          },
          "execution_count": 222
        }
      ]
    },
    {
      "cell_type": "markdown",
      "metadata": {
        "id": "ZYQWS6nLfB6d"
      },
      "source": [
        "**3. Text pre-processing: Data preparation. (20 Marks)**\r\n",
        "\r\n",
        "a. Html tag removal.\r\n",
        "\r\n",
        "b. Tokenization.\r\n",
        "\r\n",
        "c. Remove the numbers.\r\n",
        "\r\n",
        "d. Removal of Special Characters and Punctuations.\r\n",
        "\r\n",
        "e. Conversion to lowercase.\r\n",
        "\r\n",
        "f. Lemmatize or stemming.\r\n",
        "\r\n",
        "g. Join the words in the list to convert back to text string in the dataframe. (So that each row\r\n",
        "contains the data in text format.)\r\n",
        "\r\n",
        "h. Print first 5 rows of data after pre-processing.\r\n"
      ]
    },
    {
      "cell_type": "code",
      "metadata": {
        "id": "z3BPW3nVfOLk"
      },
      "source": [
        "# HTML tag removal\r\n",
        "def remove_html_tags(text):\r\n",
        "  soup = BeautifulSoup(text, 'html.parser')\r\n",
        "  return soup.get_text()\r\n",
        "\r\n",
        "mydata2['text'] = mydata2['text'].apply(lambda x: remove_html_tags(x))"
      ],
      "execution_count": 223,
      "outputs": []
    },
    {
      "cell_type": "code",
      "metadata": {
        "colab": {
          "base_uri": "https://localhost:8080/",
          "height": 419
        },
        "id": "aJKvcN_Ts8vg",
        "outputId": "5521de01-a346-4cea-d55b-727f4047ca79"
      },
      "source": [
        "mydata2"
      ],
      "execution_count": 224,
      "outputs": [
        {
          "output_type": "execute_result",
          "data": {
            "text/html": [
              "<div>\n",
              "<style scoped>\n",
              "    .dataframe tbody tr th:only-of-type {\n",
              "        vertical-align: middle;\n",
              "    }\n",
              "\n",
              "    .dataframe tbody tr th {\n",
              "        vertical-align: top;\n",
              "    }\n",
              "\n",
              "    .dataframe thead th {\n",
              "        text-align: right;\n",
              "    }\n",
              "</style>\n",
              "<table border=\"1\" class=\"dataframe\">\n",
              "  <thead>\n",
              "    <tr style=\"text-align: right;\">\n",
              "      <th></th>\n",
              "      <th>airline_sentiment</th>\n",
              "      <th>text</th>\n",
              "    </tr>\n",
              "  </thead>\n",
              "  <tbody>\n",
              "    <tr>\n",
              "      <th>0</th>\n",
              "      <td>neutral</td>\n",
              "      <td>@VirginAmerica What @dhepburn said.</td>\n",
              "    </tr>\n",
              "    <tr>\n",
              "      <th>1</th>\n",
              "      <td>positive</td>\n",
              "      <td>@VirginAmerica plus you've added commercials to the experience... tacky.</td>\n",
              "    </tr>\n",
              "    <tr>\n",
              "      <th>2</th>\n",
              "      <td>neutral</td>\n",
              "      <td>@VirginAmerica I didn't today... Must mean I need to take another trip!</td>\n",
              "    </tr>\n",
              "    <tr>\n",
              "      <th>3</th>\n",
              "      <td>negative</td>\n",
              "      <td>@VirginAmerica it's really aggressive to blast obnoxious \"entertainment\" in your guests' faces &amp; they have little recourse</td>\n",
              "    </tr>\n",
              "    <tr>\n",
              "      <th>4</th>\n",
              "      <td>negative</td>\n",
              "      <td>@VirginAmerica and it's a really big bad thing about it</td>\n",
              "    </tr>\n",
              "    <tr>\n",
              "      <th>...</th>\n",
              "      <td>...</td>\n",
              "      <td>...</td>\n",
              "    </tr>\n",
              "    <tr>\n",
              "      <th>14635</th>\n",
              "      <td>positive</td>\n",
              "      <td>@AmericanAir thank you we got on a different flight to Chicago.</td>\n",
              "    </tr>\n",
              "    <tr>\n",
              "      <th>14636</th>\n",
              "      <td>negative</td>\n",
              "      <td>@AmericanAir leaving over 20 minutes Late Flight. No warnings or communication until we were 15 minutes Late Flight. That's called shitty customer svc</td>\n",
              "    </tr>\n",
              "    <tr>\n",
              "      <th>14637</th>\n",
              "      <td>neutral</td>\n",
              "      <td>@AmericanAir Please bring American Airlines to #BlackBerry10</td>\n",
              "    </tr>\n",
              "    <tr>\n",
              "      <th>14638</th>\n",
              "      <td>negative</td>\n",
              "      <td>@AmericanAir you have my money, you change my flight, and don't answer your phones! Any other suggestions so I can make my commitment??</td>\n",
              "    </tr>\n",
              "    <tr>\n",
              "      <th>14639</th>\n",
              "      <td>neutral</td>\n",
              "      <td>@AmericanAir we have 8 ppl so we need 2 know how many seats are on the next flight. Plz put us on standby for 4 people on the next flight?</td>\n",
              "    </tr>\n",
              "  </tbody>\n",
              "</table>\n",
              "<p>14640 rows × 2 columns</p>\n",
              "</div>"
            ],
            "text/plain": [
              "      airline_sentiment                                                                                                                                                    text\n",
              "0               neutral                                                                                                                     @VirginAmerica What @dhepburn said.\n",
              "1              positive                                                                                @VirginAmerica plus you've added commercials to the experience... tacky.\n",
              "2               neutral                                                                                 @VirginAmerica I didn't today... Must mean I need to take another trip!\n",
              "3              negative                              @VirginAmerica it's really aggressive to blast obnoxious \"entertainment\" in your guests' faces & they have little recourse\n",
              "4              negative                                                                                                 @VirginAmerica and it's a really big bad thing about it\n",
              "...                 ...                                                                                                                                                     ...\n",
              "14635          positive                                                                                         @AmericanAir thank you we got on a different flight to Chicago.\n",
              "14636          negative  @AmericanAir leaving over 20 minutes Late Flight. No warnings or communication until we were 15 minutes Late Flight. That's called shitty customer svc\n",
              "14637           neutral                                                                                            @AmericanAir Please bring American Airlines to #BlackBerry10\n",
              "14638          negative                 @AmericanAir you have my money, you change my flight, and don't answer your phones! Any other suggestions so I can make my commitment??\n",
              "14639           neutral              @AmericanAir we have 8 ppl so we need 2 know how many seats are on the next flight. Plz put us on standby for 4 people on the next flight?\n",
              "\n",
              "[14640 rows x 2 columns]"
            ]
          },
          "metadata": {
            "tags": []
          },
          "execution_count": 224
        }
      ]
    },
    {
      "cell_type": "code",
      "metadata": {
        "id": "H01rcBVdrsGf"
      },
      "source": [
        "# Remove the numbers\r\n",
        "def remove_numbers(text):\r\n",
        "  text = re.sub(r'\\d+', '', str(text))\r\n",
        "  return text\r\n",
        "\r\n",
        "\r\n",
        "mydata2['text'] = mydata2['text'].apply(lambda x: remove_numbers(x))"
      ],
      "execution_count": 225,
      "outputs": []
    },
    {
      "cell_type": "code",
      "metadata": {
        "colab": {
          "base_uri": "https://localhost:8080/",
          "height": 204
        },
        "id": "otgeL5Ij7Mrr",
        "outputId": "9dbe9ae9-7bf7-4b7f-8e36-d1dfb2ce6677"
      },
      "source": [
        "mydata2.head()"
      ],
      "execution_count": 226,
      "outputs": [
        {
          "output_type": "execute_result",
          "data": {
            "text/html": [
              "<div>\n",
              "<style scoped>\n",
              "    .dataframe tbody tr th:only-of-type {\n",
              "        vertical-align: middle;\n",
              "    }\n",
              "\n",
              "    .dataframe tbody tr th {\n",
              "        vertical-align: top;\n",
              "    }\n",
              "\n",
              "    .dataframe thead th {\n",
              "        text-align: right;\n",
              "    }\n",
              "</style>\n",
              "<table border=\"1\" class=\"dataframe\">\n",
              "  <thead>\n",
              "    <tr style=\"text-align: right;\">\n",
              "      <th></th>\n",
              "      <th>airline_sentiment</th>\n",
              "      <th>text</th>\n",
              "    </tr>\n",
              "  </thead>\n",
              "  <tbody>\n",
              "    <tr>\n",
              "      <th>0</th>\n",
              "      <td>neutral</td>\n",
              "      <td>@VirginAmerica What @dhepburn said.</td>\n",
              "    </tr>\n",
              "    <tr>\n",
              "      <th>1</th>\n",
              "      <td>positive</td>\n",
              "      <td>@VirginAmerica plus you've added commercials to the experience... tacky.</td>\n",
              "    </tr>\n",
              "    <tr>\n",
              "      <th>2</th>\n",
              "      <td>neutral</td>\n",
              "      <td>@VirginAmerica I didn't today... Must mean I need to take another trip!</td>\n",
              "    </tr>\n",
              "    <tr>\n",
              "      <th>3</th>\n",
              "      <td>negative</td>\n",
              "      <td>@VirginAmerica it's really aggressive to blast obnoxious \"entertainment\" in your guests' faces &amp; they have little recourse</td>\n",
              "    </tr>\n",
              "    <tr>\n",
              "      <th>4</th>\n",
              "      <td>negative</td>\n",
              "      <td>@VirginAmerica and it's a really big bad thing about it</td>\n",
              "    </tr>\n",
              "  </tbody>\n",
              "</table>\n",
              "</div>"
            ],
            "text/plain": [
              "  airline_sentiment                                                                                                                        text\n",
              "0           neutral                                                                                         @VirginAmerica What @dhepburn said.\n",
              "1          positive                                                    @VirginAmerica plus you've added commercials to the experience... tacky.\n",
              "2           neutral                                                     @VirginAmerica I didn't today... Must mean I need to take another trip!\n",
              "3          negative  @VirginAmerica it's really aggressive to blast obnoxious \"entertainment\" in your guests' faces & they have little recourse\n",
              "4          negative                                                                     @VirginAmerica and it's a really big bad thing about it"
            ]
          },
          "metadata": {
            "tags": []
          },
          "execution_count": 226
        }
      ]
    },
    {
      "cell_type": "code",
      "metadata": {
        "id": "YMYSe5Pfrrpg"
      },
      "source": [
        "# Removal of Special Characters and Punctuations\r\n",
        "def remove_punts_characters(text):\r\n",
        "  new_text = []\r\n",
        "  clean_txt = re.sub(r'[#,@,&,?,!]', '', text)\r\n",
        "  clean_txt = contractions.fix(clean_txt)\r\n",
        "  #new_txt = re.sub(r'[^\\w\\s]', ',', clean_txt)\r\n",
        "  #if new_txt != '':\r\n",
        "    #new_text.append(new_txt)\r\n",
        "  \r\n",
        "  return clean_txt\r\n",
        "\r\n",
        "mydata2['text'] = mydata2['text'].apply(lambda x: remove_punts_characters(x))"
      ],
      "execution_count": 227,
      "outputs": []
    },
    {
      "cell_type": "code",
      "metadata": {
        "colab": {
          "base_uri": "https://localhost:8080/",
          "height": 419
        },
        "id": "d6BKSOjX7Qq7",
        "outputId": "09761a20-2c92-452c-fc4a-815010c10228"
      },
      "source": [
        "mydata2"
      ],
      "execution_count": 228,
      "outputs": [
        {
          "output_type": "execute_result",
          "data": {
            "text/html": [
              "<div>\n",
              "<style scoped>\n",
              "    .dataframe tbody tr th:only-of-type {\n",
              "        vertical-align: middle;\n",
              "    }\n",
              "\n",
              "    .dataframe tbody tr th {\n",
              "        vertical-align: top;\n",
              "    }\n",
              "\n",
              "    .dataframe thead th {\n",
              "        text-align: right;\n",
              "    }\n",
              "</style>\n",
              "<table border=\"1\" class=\"dataframe\">\n",
              "  <thead>\n",
              "    <tr style=\"text-align: right;\">\n",
              "      <th></th>\n",
              "      <th>airline_sentiment</th>\n",
              "      <th>text</th>\n",
              "    </tr>\n",
              "  </thead>\n",
              "  <tbody>\n",
              "    <tr>\n",
              "      <th>0</th>\n",
              "      <td>neutral</td>\n",
              "      <td>VirginAmerica What dhepburn said.</td>\n",
              "    </tr>\n",
              "    <tr>\n",
              "      <th>1</th>\n",
              "      <td>positive</td>\n",
              "      <td>VirginAmerica plus you have added commercials to the experience... tacky.</td>\n",
              "    </tr>\n",
              "    <tr>\n",
              "      <th>2</th>\n",
              "      <td>neutral</td>\n",
              "      <td>VirginAmerica I did not today... Must mean I need to take another trip</td>\n",
              "    </tr>\n",
              "    <tr>\n",
              "      <th>3</th>\n",
              "      <td>negative</td>\n",
              "      <td>VirginAmerica it is really aggressive to blast obnoxious \"entertainment\" in your guests' faces  they have little recourse</td>\n",
              "    </tr>\n",
              "    <tr>\n",
              "      <th>4</th>\n",
              "      <td>negative</td>\n",
              "      <td>VirginAmerica and it is a really big bad thing about it</td>\n",
              "    </tr>\n",
              "    <tr>\n",
              "      <th>...</th>\n",
              "      <td>...</td>\n",
              "      <td>...</td>\n",
              "    </tr>\n",
              "    <tr>\n",
              "      <th>14635</th>\n",
              "      <td>positive</td>\n",
              "      <td>AmericanAir thank you we got on a different flight to Chicago.</td>\n",
              "    </tr>\n",
              "    <tr>\n",
              "      <th>14636</th>\n",
              "      <td>negative</td>\n",
              "      <td>AmericanAir leaving over  minutes Late Flight. No warnings or communication until we were  minutes Late Flight. that is called shitty customer svc</td>\n",
              "    </tr>\n",
              "    <tr>\n",
              "      <th>14637</th>\n",
              "      <td>neutral</td>\n",
              "      <td>AmericanAir Please bring American Airlines to BlackBerry</td>\n",
              "    </tr>\n",
              "    <tr>\n",
              "      <th>14638</th>\n",
              "      <td>negative</td>\n",
              "      <td>AmericanAir you have my money you change my flight and do not answer your phones Any other suggestions so I can make my commitment</td>\n",
              "    </tr>\n",
              "    <tr>\n",
              "      <th>14639</th>\n",
              "      <td>neutral</td>\n",
              "      <td>AmericanAir we have  ppl so we need  know how many seats are on the next flight. Plz put us on standby for  people on the next flight</td>\n",
              "    </tr>\n",
              "  </tbody>\n",
              "</table>\n",
              "<p>14640 rows × 2 columns</p>\n",
              "</div>"
            ],
            "text/plain": [
              "      airline_sentiment                                                                                                                                                text\n",
              "0               neutral                                                                                                                   VirginAmerica What dhepburn said.\n",
              "1              positive                                                                           VirginAmerica plus you have added commercials to the experience... tacky.\n",
              "2               neutral                                                                              VirginAmerica I did not today... Must mean I need to take another trip\n",
              "3              negative                           VirginAmerica it is really aggressive to blast obnoxious \"entertainment\" in your guests' faces  they have little recourse\n",
              "4              negative                                                                                             VirginAmerica and it is a really big bad thing about it\n",
              "...                 ...                                                                                                                                                 ...\n",
              "14635          positive                                                                                      AmericanAir thank you we got on a different flight to Chicago.\n",
              "14636          negative  AmericanAir leaving over  minutes Late Flight. No warnings or communication until we were  minutes Late Flight. that is called shitty customer svc\n",
              "14637           neutral                                                                                            AmericanAir Please bring American Airlines to BlackBerry\n",
              "14638          negative                  AmericanAir you have my money you change my flight and do not answer your phones Any other suggestions so I can make my commitment\n",
              "14639           neutral               AmericanAir we have  ppl so we need  know how many seats are on the next flight. Plz put us on standby for  people on the next flight\n",
              "\n",
              "[14640 rows x 2 columns]"
            ]
          },
          "metadata": {
            "tags": []
          },
          "execution_count": 228
        }
      ]
    },
    {
      "cell_type": "code",
      "metadata": {
        "id": "fG4RXcRWMib_"
      },
      "source": [
        "# Tokenization\r\n",
        "mydata2['text'] = mydata2.apply(lambda x: nltk.word_tokenize(x['text']), axis=1)"
      ],
      "execution_count": 229,
      "outputs": []
    },
    {
      "cell_type": "code",
      "metadata": {
        "colab": {
          "base_uri": "https://localhost:8080/",
          "height": 419
        },
        "id": "BUSHodPFNCme",
        "outputId": "f7b14fc1-0b84-4771-80bd-cd35841626ce"
      },
      "source": [
        "mydata2"
      ],
      "execution_count": 230,
      "outputs": [
        {
          "output_type": "execute_result",
          "data": {
            "text/html": [
              "<div>\n",
              "<style scoped>\n",
              "    .dataframe tbody tr th:only-of-type {\n",
              "        vertical-align: middle;\n",
              "    }\n",
              "\n",
              "    .dataframe tbody tr th {\n",
              "        vertical-align: top;\n",
              "    }\n",
              "\n",
              "    .dataframe thead th {\n",
              "        text-align: right;\n",
              "    }\n",
              "</style>\n",
              "<table border=\"1\" class=\"dataframe\">\n",
              "  <thead>\n",
              "    <tr style=\"text-align: right;\">\n",
              "      <th></th>\n",
              "      <th>airline_sentiment</th>\n",
              "      <th>text</th>\n",
              "    </tr>\n",
              "  </thead>\n",
              "  <tbody>\n",
              "    <tr>\n",
              "      <th>0</th>\n",
              "      <td>neutral</td>\n",
              "      <td>[VirginAmerica, What, dhepburn, said, .]</td>\n",
              "    </tr>\n",
              "    <tr>\n",
              "      <th>1</th>\n",
              "      <td>positive</td>\n",
              "      <td>[VirginAmerica, plus, you, have, added, commercials, to, the, experience, ..., tacky, .]</td>\n",
              "    </tr>\n",
              "    <tr>\n",
              "      <th>2</th>\n",
              "      <td>neutral</td>\n",
              "      <td>[VirginAmerica, I, did, not, today, ..., Must, mean, I, need, to, take, another, trip]</td>\n",
              "    </tr>\n",
              "    <tr>\n",
              "      <th>3</th>\n",
              "      <td>negative</td>\n",
              "      <td>[VirginAmerica, it, is, really, aggressive, to, blast, obnoxious, ``, entertainment, '', in, your, guests, ', faces, they, have, little, recourse]</td>\n",
              "    </tr>\n",
              "    <tr>\n",
              "      <th>4</th>\n",
              "      <td>negative</td>\n",
              "      <td>[VirginAmerica, and, it, is, a, really, big, bad, thing, about, it]</td>\n",
              "    </tr>\n",
              "    <tr>\n",
              "      <th>...</th>\n",
              "      <td>...</td>\n",
              "      <td>...</td>\n",
              "    </tr>\n",
              "    <tr>\n",
              "      <th>14635</th>\n",
              "      <td>positive</td>\n",
              "      <td>[AmericanAir, thank, you, we, got, on, a, different, flight, to, Chicago, .]</td>\n",
              "    </tr>\n",
              "    <tr>\n",
              "      <th>14636</th>\n",
              "      <td>negative</td>\n",
              "      <td>[AmericanAir, leaving, over, minutes, Late, Flight, ., No, warnings, or, communication, until, we, were, minutes, Late, Flight, ., that, is, called, shitty, customer, svc]</td>\n",
              "    </tr>\n",
              "    <tr>\n",
              "      <th>14637</th>\n",
              "      <td>neutral</td>\n",
              "      <td>[AmericanAir, Please, bring, American, Airlines, to, BlackBerry]</td>\n",
              "    </tr>\n",
              "    <tr>\n",
              "      <th>14638</th>\n",
              "      <td>negative</td>\n",
              "      <td>[AmericanAir, you, have, my, money, you, change, my, flight, and, do, not, answer, your, phones, Any, other, suggestions, so, I, can, make, my, commitment]</td>\n",
              "    </tr>\n",
              "    <tr>\n",
              "      <th>14639</th>\n",
              "      <td>neutral</td>\n",
              "      <td>[AmericanAir, we, have, ppl, so, we, need, know, how, many, seats, are, on, the, next, flight, ., Plz, put, us, on, standby, for, people, on, the, next, flight]</td>\n",
              "    </tr>\n",
              "  </tbody>\n",
              "</table>\n",
              "<p>14640 rows × 2 columns</p>\n",
              "</div>"
            ],
            "text/plain": [
              "      airline_sentiment                                                                                                                                                                         text\n",
              "0               neutral                                                                                                                                     [VirginAmerica, What, dhepburn, said, .]\n",
              "1              positive                                                                                     [VirginAmerica, plus, you, have, added, commercials, to, the, experience, ..., tacky, .]\n",
              "2               neutral                                                                                       [VirginAmerica, I, did, not, today, ..., Must, mean, I, need, to, take, another, trip]\n",
              "3              negative                           [VirginAmerica, it, is, really, aggressive, to, blast, obnoxious, ``, entertainment, '', in, your, guests, ', faces, they, have, little, recourse]\n",
              "4              negative                                                                                                          [VirginAmerica, and, it, is, a, really, big, bad, thing, about, it]\n",
              "...                 ...                                                                                                                                                                          ...\n",
              "14635          positive                                                                                                 [AmericanAir, thank, you, we, got, on, a, different, flight, to, Chicago, .]\n",
              "14636          negative  [AmericanAir, leaving, over, minutes, Late, Flight, ., No, warnings, or, communication, until, we, were, minutes, Late, Flight, ., that, is, called, shitty, customer, svc]\n",
              "14637           neutral                                                                                                             [AmericanAir, Please, bring, American, Airlines, to, BlackBerry]\n",
              "14638          negative                  [AmericanAir, you, have, my, money, you, change, my, flight, and, do, not, answer, your, phones, Any, other, suggestions, so, I, can, make, my, commitment]\n",
              "14639           neutral             [AmericanAir, we, have, ppl, so, we, need, know, how, many, seats, are, on, the, next, flight, ., Plz, put, us, on, standby, for, people, on, the, next, flight]\n",
              "\n",
              "[14640 rows x 2 columns]"
            ]
          },
          "metadata": {
            "tags": []
          },
          "execution_count": 230
        }
      ]
    },
    {
      "cell_type": "code",
      "metadata": {
        "id": "rX4Vn4jQMj1-"
      },
      "source": [
        "stopwords = stopwords.words('english')"
      ],
      "execution_count": 231,
      "outputs": []
    },
    {
      "cell_type": "code",
      "metadata": {
        "colab": {
          "base_uri": "https://localhost:8080/"
        },
        "id": "EXOSWfyUMkSV",
        "outputId": "f6c807e9-1cb5-4f2e-c7d3-a5dab0b93899"
      },
      "source": [
        "stopwords"
      ],
      "execution_count": 232,
      "outputs": [
        {
          "output_type": "execute_result",
          "data": {
            "text/plain": [
              "['i',\n",
              " 'me',\n",
              " 'my',\n",
              " 'myself',\n",
              " 'we',\n",
              " 'our',\n",
              " 'ours',\n",
              " 'ourselves',\n",
              " 'you',\n",
              " \"you're\",\n",
              " \"you've\",\n",
              " \"you'll\",\n",
              " \"you'd\",\n",
              " 'your',\n",
              " 'yours',\n",
              " 'yourself',\n",
              " 'yourselves',\n",
              " 'he',\n",
              " 'him',\n",
              " 'his',\n",
              " 'himself',\n",
              " 'she',\n",
              " \"she's\",\n",
              " 'her',\n",
              " 'hers',\n",
              " 'herself',\n",
              " 'it',\n",
              " \"it's\",\n",
              " 'its',\n",
              " 'itself',\n",
              " 'they',\n",
              " 'them',\n",
              " 'their',\n",
              " 'theirs',\n",
              " 'themselves',\n",
              " 'what',\n",
              " 'which',\n",
              " 'who',\n",
              " 'whom',\n",
              " 'this',\n",
              " 'that',\n",
              " \"that'll\",\n",
              " 'these',\n",
              " 'those',\n",
              " 'am',\n",
              " 'is',\n",
              " 'are',\n",
              " 'was',\n",
              " 'were',\n",
              " 'be',\n",
              " 'been',\n",
              " 'being',\n",
              " 'have',\n",
              " 'has',\n",
              " 'had',\n",
              " 'having',\n",
              " 'do',\n",
              " 'does',\n",
              " 'did',\n",
              " 'doing',\n",
              " 'a',\n",
              " 'an',\n",
              " 'the',\n",
              " 'and',\n",
              " 'but',\n",
              " 'if',\n",
              " 'or',\n",
              " 'because',\n",
              " 'as',\n",
              " 'until',\n",
              " 'while',\n",
              " 'of',\n",
              " 'at',\n",
              " 'by',\n",
              " 'for',\n",
              " 'with',\n",
              " 'about',\n",
              " 'against',\n",
              " 'between',\n",
              " 'into',\n",
              " 'through',\n",
              " 'during',\n",
              " 'before',\n",
              " 'after',\n",
              " 'above',\n",
              " 'below',\n",
              " 'to',\n",
              " 'from',\n",
              " 'up',\n",
              " 'down',\n",
              " 'in',\n",
              " 'out',\n",
              " 'on',\n",
              " 'off',\n",
              " 'over',\n",
              " 'under',\n",
              " 'again',\n",
              " 'further',\n",
              " 'then',\n",
              " 'once',\n",
              " 'here',\n",
              " 'there',\n",
              " 'when',\n",
              " 'where',\n",
              " 'why',\n",
              " 'how',\n",
              " 'all',\n",
              " 'any',\n",
              " 'both',\n",
              " 'each',\n",
              " 'few',\n",
              " 'more',\n",
              " 'most',\n",
              " 'other',\n",
              " 'some',\n",
              " 'such',\n",
              " 'no',\n",
              " 'nor',\n",
              " 'not',\n",
              " 'only',\n",
              " 'own',\n",
              " 'same',\n",
              " 'so',\n",
              " 'than',\n",
              " 'too',\n",
              " 'very',\n",
              " 's',\n",
              " 't',\n",
              " 'can',\n",
              " 'will',\n",
              " 'just',\n",
              " 'don',\n",
              " \"don't\",\n",
              " 'should',\n",
              " \"should've\",\n",
              " 'now',\n",
              " 'd',\n",
              " 'll',\n",
              " 'm',\n",
              " 'o',\n",
              " 're',\n",
              " 've',\n",
              " 'y',\n",
              " 'ain',\n",
              " 'aren',\n",
              " \"aren't\",\n",
              " 'couldn',\n",
              " \"couldn't\",\n",
              " 'didn',\n",
              " \"didn't\",\n",
              " 'doesn',\n",
              " \"doesn't\",\n",
              " 'hadn',\n",
              " \"hadn't\",\n",
              " 'hasn',\n",
              " \"hasn't\",\n",
              " 'haven',\n",
              " \"haven't\",\n",
              " 'isn',\n",
              " \"isn't\",\n",
              " 'ma',\n",
              " 'mightn',\n",
              " \"mightn't\",\n",
              " 'mustn',\n",
              " \"mustn't\",\n",
              " 'needn',\n",
              " \"needn't\",\n",
              " 'shan',\n",
              " \"shan't\",\n",
              " 'shouldn',\n",
              " \"shouldn't\",\n",
              " 'wasn',\n",
              " \"wasn't\",\n",
              " 'weren',\n",
              " \"weren't\",\n",
              " 'won',\n",
              " \"won't\",\n",
              " 'wouldn',\n",
              " \"wouldn't\"]"
            ]
          },
          "metadata": {
            "tags": []
          },
          "execution_count": 232
        }
      ]
    },
    {
      "cell_type": "code",
      "metadata": {
        "id": "XqnHsk35rrPQ"
      },
      "source": [
        "# Conversion to lowercase\r\n",
        "def to_lowercase(text):\r\n",
        "  new_text = []\r\n",
        "  for txt in text:\r\n",
        "    new_txt = txt.lower()\r\n",
        "    new_text.append(new_txt)\r\n",
        "  return new_text"
      ],
      "execution_count": 233,
      "outputs": []
    },
    {
      "cell_type": "code",
      "metadata": {
        "id": "RHxUAVqC7YHD"
      },
      "source": [
        "# Remove non-ASCII\r\n",
        "def remove_non_ascii(text):\r\n",
        "  \"\"\"Remove non-ASCII characters from list of tokenized words\"\"\"\r\n",
        "  new_text = []\r\n",
        "  for txt in text:\r\n",
        "    new_txt = unicodedata.normalize('NFKD',txt).encode('ascii', 'ignore').decode('utf-8','ignore')\r\n",
        "    new_text.append(new_txt)\r\n",
        "  return new_text"
      ],
      "execution_count": 234,
      "outputs": []
    },
    {
      "cell_type": "code",
      "metadata": {
        "id": "hm-b1x2e7bD8"
      },
      "source": [
        "# Remove Punctuation\r\n",
        "def remove_punctuation(text):\r\n",
        "    \"\"\"Remove punctuation from list of tokenized words\"\"\"\r\n",
        "    new_text = []\r\n",
        "    for txt in text:\r\n",
        "        new_txt = re.sub(r'[^\\w\\s]', '', text)\r\n",
        "        if new_txt != '':\r\n",
        "            new_text.append(new_txt)\r\n",
        "    return new_text"
      ],
      "execution_count": 235,
      "outputs": []
    },
    {
      "cell_type": "code",
      "metadata": {
        "id": "DBbvIP_u7daD"
      },
      "source": [
        "# Remove Stopwords\r\n",
        "def remove_stopwords(text):\r\n",
        "    \"\"\"Remove stop words from list of tokenized words\"\"\"\r\n",
        "    new_text = []\r\n",
        "    for txt in text:\r\n",
        "        if txt not in stopwords:\r\n",
        "          new_text.append(txt)\r\n",
        "    return new_text"
      ],
      "execution_count": 236,
      "outputs": []
    },
    {
      "cell_type": "code",
      "metadata": {
        "id": "bHztk5Gwrqy4"
      },
      "source": [
        "# Lemmatize or stemming\r\n",
        "def lemmatize_list(text):\r\n",
        "   lemmatizer = WordNetLemmatizer()\r\n",
        "   new_text = []\r\n",
        "   for txt in text:\r\n",
        "     new_text.append(lemmatizer.lemmatize(txt))\r\n",
        "   return new_text\r\n",
        "\r\n",
        "def stemming_list(text):\r\n",
        "   new_text = []\r\n",
        "   for txt in text:\r\n",
        "     new_text.append(LancasterStemmer.stem(txt))\r\n",
        "\r\n",
        "   return new_text \r\n"
      ],
      "execution_count": 237,
      "outputs": []
    },
    {
      "cell_type": "code",
      "metadata": {
        "colab": {
          "base_uri": "https://localhost:8080/",
          "height": 419
        },
        "id": "tg9jwmr9rqVP",
        "outputId": "a7801367-e16c-4453-e56a-2aac0ae4c8a3"
      },
      "source": [
        "# Join the words in the list to convert back to text string in the dataframe\r\n",
        "def normalize(text):\r\n",
        "  text = remove_non_ascii(text)\r\n",
        "  text = to_lowercase(text)\r\n",
        " # text = remove_punctuation(text)\r\n",
        "  text = remove_stopwords(text)\r\n",
        "  text = lemmatize_list(text)\r\n",
        "  return '.'.join(text)\r\n",
        "\r\n",
        "mydata2['text'] = mydata2.apply(lambda x: normalize(x['text']), axis=1)\r\n",
        "mydata2"
      ],
      "execution_count": 238,
      "outputs": [
        {
          "output_type": "execute_result",
          "data": {
            "text/html": [
              "<div>\n",
              "<style scoped>\n",
              "    .dataframe tbody tr th:only-of-type {\n",
              "        vertical-align: middle;\n",
              "    }\n",
              "\n",
              "    .dataframe tbody tr th {\n",
              "        vertical-align: top;\n",
              "    }\n",
              "\n",
              "    .dataframe thead th {\n",
              "        text-align: right;\n",
              "    }\n",
              "</style>\n",
              "<table border=\"1\" class=\"dataframe\">\n",
              "  <thead>\n",
              "    <tr style=\"text-align: right;\">\n",
              "      <th></th>\n",
              "      <th>airline_sentiment</th>\n",
              "      <th>text</th>\n",
              "    </tr>\n",
              "  </thead>\n",
              "  <tbody>\n",
              "    <tr>\n",
              "      <th>0</th>\n",
              "      <td>neutral</td>\n",
              "      <td>virginamerica.dhepburn.said..</td>\n",
              "    </tr>\n",
              "    <tr>\n",
              "      <th>1</th>\n",
              "      <td>positive</td>\n",
              "      <td>virginamerica.plus.added.commercial.experience.....tacky..</td>\n",
              "    </tr>\n",
              "    <tr>\n",
              "      <th>2</th>\n",
              "      <td>neutral</td>\n",
              "      <td>virginamerica.today.....must.mean.need.take.another.trip</td>\n",
              "    </tr>\n",
              "    <tr>\n",
              "      <th>3</th>\n",
              "      <td>negative</td>\n",
              "      <td>virginamerica.really.aggressive.blast.obnoxious.``.entertainment.''.guest.'.face.little.recourse</td>\n",
              "    </tr>\n",
              "    <tr>\n",
              "      <th>4</th>\n",
              "      <td>negative</td>\n",
              "      <td>virginamerica.really.big.bad.thing</td>\n",
              "    </tr>\n",
              "    <tr>\n",
              "      <th>...</th>\n",
              "      <td>...</td>\n",
              "      <td>...</td>\n",
              "    </tr>\n",
              "    <tr>\n",
              "      <th>14635</th>\n",
              "      <td>positive</td>\n",
              "      <td>americanair.thank.got.different.flight.chicago..</td>\n",
              "    </tr>\n",
              "    <tr>\n",
              "      <th>14636</th>\n",
              "      <td>negative</td>\n",
              "      <td>americanair.leaving.minute.late.flight...warning.communication.minute.late.flight...called.shitty.customer.svc</td>\n",
              "    </tr>\n",
              "    <tr>\n",
              "      <th>14637</th>\n",
              "      <td>neutral</td>\n",
              "      <td>americanair.please.bring.american.airline.blackberry</td>\n",
              "    </tr>\n",
              "    <tr>\n",
              "      <th>14638</th>\n",
              "      <td>negative</td>\n",
              "      <td>americanair.money.change.flight.answer.phone.suggestion.make.commitment</td>\n",
              "    </tr>\n",
              "    <tr>\n",
              "      <th>14639</th>\n",
              "      <td>neutral</td>\n",
              "      <td>americanair.ppl.need.know.many.seat.next.flight...plz.put.u.standby.people.next.flight</td>\n",
              "    </tr>\n",
              "  </tbody>\n",
              "</table>\n",
              "<p>14640 rows × 2 columns</p>\n",
              "</div>"
            ],
            "text/plain": [
              "      airline_sentiment                                                                                                            text\n",
              "0               neutral                                                                                   virginamerica.dhepburn.said..\n",
              "1              positive                                                      virginamerica.plus.added.commercial.experience.....tacky..\n",
              "2               neutral                                                        virginamerica.today.....must.mean.need.take.another.trip\n",
              "3              negative                virginamerica.really.aggressive.blast.obnoxious.``.entertainment.''.guest.'.face.little.recourse\n",
              "4              negative                                                                              virginamerica.really.big.bad.thing\n",
              "...                 ...                                                                                                             ...\n",
              "14635          positive                                                                americanair.thank.got.different.flight.chicago..\n",
              "14636          negative  americanair.leaving.minute.late.flight...warning.communication.minute.late.flight...called.shitty.customer.svc\n",
              "14637           neutral                                                            americanair.please.bring.american.airline.blackberry\n",
              "14638          negative                                         americanair.money.change.flight.answer.phone.suggestion.make.commitment\n",
              "14639           neutral                          americanair.ppl.need.know.many.seat.next.flight...plz.put.u.standby.people.next.flight\n",
              "\n",
              "[14640 rows x 2 columns]"
            ]
          },
          "metadata": {
            "tags": []
          },
          "execution_count": 238
        }
      ]
    },
    {
      "cell_type": "code",
      "metadata": {
        "colab": {
          "base_uri": "https://localhost:8080/",
          "height": 204
        },
        "id": "FtuWhGowrp0H",
        "outputId": "49fc7c6d-ff23-4459-ae0f-9b97148faa94"
      },
      "source": [
        "# Print first 5 rows of data after pre-processing\r\n",
        "mydata2.head()"
      ],
      "execution_count": 239,
      "outputs": [
        {
          "output_type": "execute_result",
          "data": {
            "text/html": [
              "<div>\n",
              "<style scoped>\n",
              "    .dataframe tbody tr th:only-of-type {\n",
              "        vertical-align: middle;\n",
              "    }\n",
              "\n",
              "    .dataframe tbody tr th {\n",
              "        vertical-align: top;\n",
              "    }\n",
              "\n",
              "    .dataframe thead th {\n",
              "        text-align: right;\n",
              "    }\n",
              "</style>\n",
              "<table border=\"1\" class=\"dataframe\">\n",
              "  <thead>\n",
              "    <tr style=\"text-align: right;\">\n",
              "      <th></th>\n",
              "      <th>airline_sentiment</th>\n",
              "      <th>text</th>\n",
              "    </tr>\n",
              "  </thead>\n",
              "  <tbody>\n",
              "    <tr>\n",
              "      <th>0</th>\n",
              "      <td>neutral</td>\n",
              "      <td>virginamerica.dhepburn.said..</td>\n",
              "    </tr>\n",
              "    <tr>\n",
              "      <th>1</th>\n",
              "      <td>positive</td>\n",
              "      <td>virginamerica.plus.added.commercial.experience.....tacky..</td>\n",
              "    </tr>\n",
              "    <tr>\n",
              "      <th>2</th>\n",
              "      <td>neutral</td>\n",
              "      <td>virginamerica.today.....must.mean.need.take.another.trip</td>\n",
              "    </tr>\n",
              "    <tr>\n",
              "      <th>3</th>\n",
              "      <td>negative</td>\n",
              "      <td>virginamerica.really.aggressive.blast.obnoxious.``.entertainment.''.guest.'.face.little.recourse</td>\n",
              "    </tr>\n",
              "    <tr>\n",
              "      <th>4</th>\n",
              "      <td>negative</td>\n",
              "      <td>virginamerica.really.big.bad.thing</td>\n",
              "    </tr>\n",
              "  </tbody>\n",
              "</table>\n",
              "</div>"
            ],
            "text/plain": [
              "  airline_sentiment                                                                                              text\n",
              "0           neutral                                                                     virginamerica.dhepburn.said..\n",
              "1          positive                                        virginamerica.plus.added.commercial.experience.....tacky..\n",
              "2           neutral                                          virginamerica.today.....must.mean.need.take.another.trip\n",
              "3          negative  virginamerica.really.aggressive.blast.obnoxious.``.entertainment.''.guest.'.face.little.recourse\n",
              "4          negative                                                                virginamerica.really.big.bad.thing"
            ]
          },
          "metadata": {
            "tags": []
          },
          "execution_count": 239
        }
      ]
    },
    {
      "cell_type": "markdown",
      "metadata": {
        "id": "Oe75JGiBfQBY"
      },
      "source": [
        "**4. Vectorization: (10 Marks)**\r\n",
        "\r\n",
        "a. Use CountVectorizer.\r\n",
        "\r\n",
        "b. Use TfidfVectorizer."
      ]
    },
    {
      "cell_type": "code",
      "metadata": {
        "colab": {
          "base_uri": "https://localhost:8080/"
        },
        "id": "p8HauGx7fbBC",
        "outputId": "26461cc9-2e7f-48df-d3e6-b21f59f0c3ae"
      },
      "source": [
        "# Use Count Vectorizer\r\n",
        "count_vectorizer = CountVectorizer(max_features=1000)\r\n",
        "count_vect_data_features = count_vectorizer.fit_transform(mydata2['text'])\r\n",
        "count_vect_data_features = count_vect_data_features.toarray() \r\n",
        "count_vect_data_features.shape"
      ],
      "execution_count": 240,
      "outputs": [
        {
          "output_type": "execute_result",
          "data": {
            "text/plain": [
              "(14640, 1000)"
            ]
          },
          "metadata": {
            "tags": []
          },
          "execution_count": 240
        }
      ]
    },
    {
      "cell_type": "code",
      "metadata": {
        "colab": {
          "base_uri": "https://localhost:8080/"
        },
        "id": "ub-KukeNfcXd",
        "outputId": "e433146b-3355-4684-dcee-9bb15baa8267"
      },
      "source": [
        "# Use Tfidf Vectorizer\r\n",
        "tfidf_vectoriser = TfidfVectorizer(max_features=2000)\r\n",
        "tfidf_data_features = tfidf_vectoriser.fit_transform(mydata2['text'])\r\n",
        "tfidf_data_features = tfidf_data_features.toarray()\r\n",
        "tfidf_data_features.shape"
      ],
      "execution_count": 241,
      "outputs": [
        {
          "output_type": "execute_result",
          "data": {
            "text/plain": [
              "(14640, 2000)"
            ]
          },
          "metadata": {
            "tags": []
          },
          "execution_count": 241
        }
      ]
    },
    {
      "cell_type": "markdown",
      "metadata": {
        "id": "kGS4IwDVfdN1"
      },
      "source": [
        "**5. Fit and evaluate model using both type of vectorization. (6+6 Marks)**"
      ]
    },
    {
      "cell_type": "code",
      "metadata": {
        "colab": {
          "base_uri": "https://localhost:8080/"
        },
        "id": "LBnxnY1CftB9",
        "outputId": "d0d68486-6164-4402-a74a-d7a958730e21"
      },
      "source": [
        "labels = mydata2['airline_sentiment'].apply(lambda x:0 if x=='negative' else 1 )\r\n",
        "labels.dtype"
      ],
      "execution_count": 242,
      "outputs": [
        {
          "output_type": "execute_result",
          "data": {
            "text/plain": [
              "dtype('int64')"
            ]
          },
          "metadata": {
            "tags": []
          },
          "execution_count": 242
        }
      ]
    },
    {
      "cell_type": "code",
      "metadata": {
        "id": "5tAp4z8Zw4Cu"
      },
      "source": [
        " Classifiers = [\r\n",
        "    LogisticRegression(C=0.000000001,solver='liblinear',max_iter=200),\r\n",
        "    DecisionTreeClassifier(),\r\n",
        "    RandomForestClassifier(n_estimators=200),\r\n",
        "    AdaBoostClassifier()]\r\n",
        "   "
      ],
      "execution_count": 243,
      "outputs": []
    },
    {
      "cell_type": "code",
      "metadata": {
        "id": "39YKyl4Hw3cm"
      },
      "source": [
        "# Fit and Evaluate Model using Count Vectorizer\r\n",
        "Accuracy=[]\r\n",
        "Model=[]\r\n",
        "features=[]\r\n",
        "\r\n",
        "def model_fit(Xtrain,ytrain,xtest,ytest,feature_type):\r\n",
        " \r\n",
        "\r\n",
        "  #Accuracy=[]\r\n",
        "  #Model=[]\r\n",
        "  for clf in Classifiers:\r\n",
        "\r\n",
        "    try:\r\n",
        "      fit = clf.fit(Xtrain,ytrain)\r\n",
        "      pred = fit.predict(xtest)\r\n",
        "    except Exception:\r\n",
        "      fit = clf.fit(Xtrain,ytrain)\r\n",
        "      pred = fit.predict(xtest)\r\n",
        "    accuracy = accuracy_score(pred,ytest)\r\n",
        "    Accuracy.append(accuracy)\r\n",
        "    Model.append(clf.__class__.__name__)\r\n",
        "    features.append(feature_type)\r\n",
        "    print('Accuracy of '+clf.__class__.__name__+' is '+str(accuracy)+ ':' + feature_type) \r\n",
        "    print(classification_report(pred,ytest))\r\n",
        "    \r\n",
        "    #Confusion Matrix\r\n",
        "    #cm = confusion_matrix(pred,ytest)\r\n",
        "    #plt.figure()\r\n",
        "    #plot_confusion_matrix(cm,cmap=plt.cm.Blues)\r\n",
        "   \r\n",
        "    #plot_confusion_matrix((clf,pred, ytest)\r\n",
        "    #plt.xticks(range(2), ['Negative', 'Positive'],color='black')\r\n",
        "    #plt.yticks(range(2), ['Negative', 'Positive'])\r\n",
        "    #plt.xlabel('Predicted Label')\r\n",
        "    #plt.ylabel('True Label')\r\n",
        "    #plt.show()\r\n"
      ],
      "execution_count": 244,
      "outputs": []
    },
    {
      "cell_type": "code",
      "metadata": {
        "colab": {
          "base_uri": "https://localhost:8080/"
        },
        "id": "IAK461RWw25N",
        "outputId": "b4c85fe3-e4b0-4478-ea4b-4e3203f372e9"
      },
      "source": [
        "X_train, X_test, y_train, y_test = train_test_split(count_vect_data_features,labels, test_size=0.3, random_state=42)\r\n",
        "\r\n",
        "print(X_train.shape)\r\n",
        "print(X_test.shape)\r\n",
        "print(y_train.shape)\r\n",
        "print(y_test.shape)\r\n"
      ],
      "execution_count": 245,
      "outputs": [
        {
          "output_type": "stream",
          "text": [
            "(10248, 1000)\n",
            "(4392, 1000)\n",
            "(10248,)\n",
            "(4392,)\n"
          ],
          "name": "stdout"
        }
      ]
    },
    {
      "cell_type": "code",
      "metadata": {
        "colab": {
          "base_uri": "https://localhost:8080/"
        },
        "id": "0Vz8xy4AfuOb",
        "outputId": "a8cc2ddd-c7ba-4e20-8d21-a8f60f75d962"
      },
      "source": [
        "model_fit(X_train,y_train,X_test,y_test,'CountVectorizer')\r\n"
      ],
      "execution_count": 246,
      "outputs": [
        {
          "output_type": "stream",
          "text": [
            "Accuracy of LogisticRegression is 0.6407103825136612:CountVectorizer\n",
            "              precision    recall  f1-score   support\n",
            "\n",
            "           0       1.00      0.64      0.78      4392\n",
            "           1       0.00      0.00      0.00         0\n",
            "\n",
            "    accuracy                           0.64      4392\n",
            "   macro avg       0.50      0.32      0.39      4392\n",
            "weighted avg       1.00      0.64      0.78      4392\n",
            "\n",
            "Accuracy of DecisionTreeClassifier is 0.7461293260473588:CountVectorizer\n",
            "              precision    recall  f1-score   support\n",
            "\n",
            "           0       0.80      0.80      0.80      2787\n",
            "           1       0.66      0.64      0.65      1605\n",
            "\n",
            "    accuracy                           0.75      4392\n",
            "   macro avg       0.73      0.72      0.73      4392\n",
            "weighted avg       0.75      0.75      0.75      4392\n",
            "\n",
            "Accuracy of RandomForestClassifier is 0.7948542805100182:CountVectorizer\n",
            "              precision    recall  f1-score   support\n",
            "\n",
            "           0       0.85      0.83      0.84      2861\n",
            "           1       0.70      0.72      0.71      1531\n",
            "\n",
            "    accuracy                           0.79      4392\n",
            "   macro avg       0.77      0.78      0.78      4392\n",
            "weighted avg       0.80      0.79      0.80      4392\n",
            "\n",
            "Accuracy of AdaBoostClassifier is 0.7786885245901639:CountVectorizer\n",
            "              precision    recall  f1-score   support\n",
            "\n",
            "           0       0.87      0.80      0.83      3028\n",
            "           1       0.62      0.72      0.67      1364\n",
            "\n",
            "    accuracy                           0.78      4392\n",
            "   macro avg       0.74      0.76      0.75      4392\n",
            "weighted avg       0.79      0.78      0.78      4392\n",
            "\n"
          ],
          "name": "stdout"
        }
      ]
    },
    {
      "cell_type": "code",
      "metadata": {
        "colab": {
          "base_uri": "https://localhost:8080/"
        },
        "id": "6dF9LyJoyTaF",
        "outputId": "2ec64b10-b019-4ace-c1e4-07ff676975c9"
      },
      "source": [
        "# Fit and Evaluate Model using Tfidf Vectorizer\r\n",
        "X_train, X_test, y_train, y_test = train_test_split(tfidf_data_features,labels, test_size=0.3, random_state=42)\r\n",
        "\r\n",
        "print(X_train.shape)\r\n",
        "print(X_test.shape)\r\n",
        "print(y_train.shape)\r\n",
        "print(y_test.shape)"
      ],
      "execution_count": 247,
      "outputs": [
        {
          "output_type": "stream",
          "text": [
            "(10248, 2000)\n",
            "(4392, 2000)\n",
            "(10248,)\n",
            "(4392,)\n"
          ],
          "name": "stdout"
        }
      ]
    },
    {
      "cell_type": "code",
      "metadata": {
        "colab": {
          "base_uri": "https://localhost:8080/"
        },
        "id": "-ZMzdc-PyUVW",
        "outputId": "e90e265c-239e-4fa0-ca0f-fa081aa169fc"
      },
      "source": [
        "model_fit(X_train,y_train,X_test,y_test,'TfidfVectorizer');"
      ],
      "execution_count": 248,
      "outputs": [
        {
          "output_type": "stream",
          "text": [
            "Accuracy of LogisticRegression is 0.6407103825136612:TfidfVectorizer\n",
            "              precision    recall  f1-score   support\n",
            "\n",
            "           0       1.00      0.64      0.78      4392\n",
            "           1       0.00      0.00      0.00         0\n",
            "\n",
            "    accuracy                           0.64      4392\n",
            "   macro avg       0.50      0.32      0.39      4392\n",
            "weighted avg       1.00      0.64      0.78      4392\n",
            "\n",
            "Accuracy of DecisionTreeClassifier is 0.7317850637522769:TfidfVectorizer\n",
            "              precision    recall  f1-score   support\n",
            "\n",
            "           0       0.78      0.80      0.79      2770\n",
            "           1       0.64      0.62      0.63      1622\n",
            "\n",
            "    accuracy                           0.73      4392\n",
            "   macro avg       0.71      0.71      0.71      4392\n",
            "weighted avg       0.73      0.73      0.73      4392\n",
            "\n",
            "Accuracy of RandomForestClassifier is 0.8126138433515483:TfidfVectorizer\n",
            "              precision    recall  f1-score   support\n",
            "\n",
            "           0       0.90      0.82      0.86      3069\n",
            "           1       0.66      0.79      0.72      1323\n",
            "\n",
            "    accuracy                           0.81      4392\n",
            "   macro avg       0.78      0.80      0.79      4392\n",
            "weighted avg       0.83      0.81      0.82      4392\n",
            "\n",
            "Accuracy of AdaBoostClassifier is 0.7773224043715847:TfidfVectorizer\n",
            "              precision    recall  f1-score   support\n",
            "\n",
            "           0       0.89      0.79      0.84      3152\n",
            "           1       0.58      0.74      0.65      1240\n",
            "\n",
            "    accuracy                           0.78      4392\n",
            "   macro avg       0.73      0.77      0.74      4392\n",
            "weighted avg       0.80      0.78      0.78      4392\n",
            "\n"
          ],
          "name": "stdout"
        }
      ]
    },
    {
      "cell_type": "code",
      "metadata": {
        "id": "ysJfwiIxzLTF"
      },
      "source": [
        "myresult = pd.DataFrame({'Model': Model, 'Accuracy': Accuracy, 'Vectorizer': features})\r\n",
        "myresult = myresult[['Model', 'Accuracy', 'Vectorizer']]"
      ],
      "execution_count": 249,
      "outputs": []
    },
    {
      "cell_type": "code",
      "metadata": {
        "colab": {
          "base_uri": "https://localhost:8080/",
          "height": 297
        },
        "id": "cV3cBtOpzsJe",
        "outputId": "444ed7bc-aacd-4887-b3ca-27b3dcff8eea"
      },
      "source": [
        "myresult"
      ],
      "execution_count": 250,
      "outputs": [
        {
          "output_type": "execute_result",
          "data": {
            "text/html": [
              "<div>\n",
              "<style scoped>\n",
              "    .dataframe tbody tr th:only-of-type {\n",
              "        vertical-align: middle;\n",
              "    }\n",
              "\n",
              "    .dataframe tbody tr th {\n",
              "        vertical-align: top;\n",
              "    }\n",
              "\n",
              "    .dataframe thead th {\n",
              "        text-align: right;\n",
              "    }\n",
              "</style>\n",
              "<table border=\"1\" class=\"dataframe\">\n",
              "  <thead>\n",
              "    <tr style=\"text-align: right;\">\n",
              "      <th></th>\n",
              "      <th>Model</th>\n",
              "      <th>Accuracy</th>\n",
              "      <th>Vectorizer</th>\n",
              "    </tr>\n",
              "  </thead>\n",
              "  <tbody>\n",
              "    <tr>\n",
              "      <th>0</th>\n",
              "      <td>LogisticRegression</td>\n",
              "      <td>0.640710</td>\n",
              "      <td>CountVectorizer</td>\n",
              "    </tr>\n",
              "    <tr>\n",
              "      <th>1</th>\n",
              "      <td>DecisionTreeClassifier</td>\n",
              "      <td>0.746129</td>\n",
              "      <td>CountVectorizer</td>\n",
              "    </tr>\n",
              "    <tr>\n",
              "      <th>2</th>\n",
              "      <td>RandomForestClassifier</td>\n",
              "      <td>0.794854</td>\n",
              "      <td>CountVectorizer</td>\n",
              "    </tr>\n",
              "    <tr>\n",
              "      <th>3</th>\n",
              "      <td>AdaBoostClassifier</td>\n",
              "      <td>0.778689</td>\n",
              "      <td>CountVectorizer</td>\n",
              "    </tr>\n",
              "    <tr>\n",
              "      <th>4</th>\n",
              "      <td>LogisticRegression</td>\n",
              "      <td>0.640710</td>\n",
              "      <td>TfidfVectorizer</td>\n",
              "    </tr>\n",
              "    <tr>\n",
              "      <th>5</th>\n",
              "      <td>DecisionTreeClassifier</td>\n",
              "      <td>0.731785</td>\n",
              "      <td>TfidfVectorizer</td>\n",
              "    </tr>\n",
              "    <tr>\n",
              "      <th>6</th>\n",
              "      <td>RandomForestClassifier</td>\n",
              "      <td>0.812614</td>\n",
              "      <td>TfidfVectorizer</td>\n",
              "    </tr>\n",
              "    <tr>\n",
              "      <th>7</th>\n",
              "      <td>AdaBoostClassifier</td>\n",
              "      <td>0.777322</td>\n",
              "      <td>TfidfVectorizer</td>\n",
              "    </tr>\n",
              "  </tbody>\n",
              "</table>\n",
              "</div>"
            ],
            "text/plain": [
              "                    Model  Accuracy       Vectorizer\n",
              "0      LogisticRegression  0.640710  CountVectorizer\n",
              "1  DecisionTreeClassifier  0.746129  CountVectorizer\n",
              "2  RandomForestClassifier  0.794854  CountVectorizer\n",
              "3      AdaBoostClassifier  0.778689  CountVectorizer\n",
              "4      LogisticRegression  0.640710  TfidfVectorizer\n",
              "5  DecisionTreeClassifier  0.731785  TfidfVectorizer\n",
              "6  RandomForestClassifier  0.812614  TfidfVectorizer\n",
              "7      AdaBoostClassifier  0.777322  TfidfVectorizer"
            ]
          },
          "metadata": {
            "tags": []
          },
          "execution_count": 250
        }
      ]
    },
    {
      "cell_type": "markdown",
      "metadata": {
        "id": "MTgsl2QJ0PXe"
      },
      "source": [
        "The RandomForestClassifier has the highest accuracy and F1 scores"
      ]
    },
    {
      "cell_type": "code",
      "metadata": {
        "colab": {
          "base_uri": "https://localhost:8080/"
        },
        "id": "sNKDaBgm0OBG",
        "outputId": "37561a8a-c9fe-446b-98c7-1fa19480f6f7"
      },
      "source": [
        "X_train, X_test, y_train, y_test = train_test_split(tfidf_data_features,labels, test_size=0.3, random_state=42)\r\n",
        "X_train.shape\r\n",
        "y_train.shape"
      ],
      "execution_count": 251,
      "outputs": [
        {
          "output_type": "execute_result",
          "data": {
            "text/plain": [
              "(10248,)"
            ]
          },
          "metadata": {
            "tags": []
          },
          "execution_count": 251
        }
      ]
    },
    {
      "cell_type": "code",
      "metadata": {
        "id": "GQVuO7-Zf3cO"
      },
      "source": [
        "forest = RandomForestClassifier(n_estimators=200, n_jobs=4)\r\n",
        "forest = forest.fit(X_train,y_train)"
      ],
      "execution_count": 252,
      "outputs": []
    },
    {
      "cell_type": "code",
      "metadata": {
        "colab": {
          "base_uri": "https://localhost:8080/"
        },
        "id": "G5rFZh1D0js1",
        "outputId": "3bc3f300-c151-4b35-b751-b3d8d7b5d2e2"
      },
      "source": [
        "results = forest.predict(X_test)\r\n",
        "accuracy = accuracy_score(results,y_test)\r\n",
        "print(accuracy)\r\n",
        "#print(np.mean(cross_val_score(forest, tfidf_data_features, cv=10)))"
      ],
      "execution_count": 253,
      "outputs": [
        {
          "output_type": "stream",
          "text": [
            "0.8110200364298725\n"
          ],
          "name": "stdout"
        }
      ]
    },
    {
      "cell_type": "code",
      "metadata": {
        "colab": {
          "base_uri": "https://localhost:8080/",
          "height": 483
        },
        "id": "AS3u38BIin8Y",
        "outputId": "9171487e-a8c4-4863-862d-cff375f1a044"
      },
      "source": [
        "conf_mat = confusion_matrix(y_test, results)\r\n",
        "print(conf_mat)\r\n",
        "\r\n",
        "df_cm = pd.DataFrame(conf_mat, index = [i for i in \"12\"],\r\n",
        "                  columns = [i for i in \"12\"])\r\n",
        "plt.figure(figsize = (10,7))\r\n",
        "sns.heatmap(df_cm, annot=True, fmt = '.0f', linewidths=.5, cmap = 'coolwarm', vmin = 0, vmax = 5, linecolor = \"bb\")"
      ],
      "execution_count": 260,
      "outputs": [
        {
          "output_type": "stream",
          "text": [
            "[[2537  277]\n",
            " [ 553 1025]]\n"
          ],
          "name": "stdout"
        },
        {
          "output_type": "execute_result",
          "data": {
            "text/plain": [
              "<matplotlib.axes._subplots.AxesSubplot at 0x7efd68b02198>"
            ]
          },
          "metadata": {
            "tags": []
          },
          "execution_count": 260
        },
        {
          "output_type": "display_data",
          "data": {
            "image/png": "[encoded data removed]",
            "text/plain": [
              "<Figure size 720x504 with 2 Axes>"
            ]
          },
          "metadata": {
            "tags": [],
            "needs_background": "light"
          }
        }
      ]
    },
    {
      "cell_type": "markdown",
      "metadata": {
        "id": "q_5KdHaU1L6W"
      },
      "source": [
        "**6. Summarize your understanding of the application of Various Pre-processing and Vectorization and\r\n",
        "performance of your model on this dataset. (8 Marks)**"
      ]
    },
    {
      "cell_type": "markdown",
      "metadata": {
        "id": "XyTslbGW1MSd"
      },
      "source": [
        "The dataset reviews were converted to integers (0,1)\r\n",
        "\r\n",
        "I pre-processed the text column by doing the following:\r\n",
        "*   All HTML tags were removed using BeautifulSoup package because the data was acquired from the web\r\n",
        "*   The numbers and special characters were removed and replaced with spaces with the help of regular expression \r\n",
        "*   The contraction package converted words, reduced and/or combined them by dropping the apostrophe to the their full words\r\n",
        "*   **Single words were Tokenized after the removal of special characters and punctuations (instead of before) to avoid ending up with gibberish (combination of syllables with no meaning) after joining the words and converting back to text string in the dataframe**\r\n",
        "*   Stopwords from the tokenized text were removed and subsequently, converted to lowercase\r\n",
        "*   The tokenized words were Lemmatized\r\n",
        " \r\n",
        "Because models can only be run on integers, the words were converted words to numbers to feed the model.\r\n",
        "\r\n",
        "CountVectorizer and TfidfVectorizer were deployed into this model.\r\n",
        "\r\n",
        "This model was built and evaluated using the following:  \r\n",
        "*   LogisticRegression\r\n",
        "*   DecisionTreeClassifier\r\n",
        "*   RandomForestClassifier\r\n",
        "*   AdaBoostClassifier\r\n",
        "\r\n",
        "After building the classification model, the model predicted the result for the test data.\r\n",
        "\r\n",
        "The RadomForestClassifier produced the highest accuracy of approximately 81% using the TfidfVectorizer. \r\n",
        "\r\n",
        "To increase the accuracy of this model, i tuned the hyperparameters of the RandomForest Classifier model and increased the number of features from 1000 to 2000.\r\n"
      ]
    }
  ]
}